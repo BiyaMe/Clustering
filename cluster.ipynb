{
  "nbformat": 4,
  "nbformat_minor": 0,
  "metadata": {
    "colab": {
      "provenance": [],
      "authorship_tag": "ABX9TyN8W8p+H4S0DAukYw3xluvO",
      "include_colab_link": true
    },
    "kernelspec": {
      "name": "python3",
      "display_name": "Python 3"
    },
    "language_info": {
      "name": "python"
    }
  },
  "cells": [
    {
      "cell_type": "markdown",
      "metadata": {
        "id": "view-in-github",
        "colab_type": "text"
      },
      "source": [
        "<a href=\"https://colab.research.google.com/github/BiyaMe/Clustering/blob/main/cluster.ipynb\" target=\"_parent\"><img src=\"https://colab.research.google.com/assets/colab-badge.svg\" alt=\"Open In Colab\"/></a>"
      ]
    },
    {
      "cell_type": "markdown",
      "source": [
        "\n",
        "\n",
        ">Here we are importing the important libraries that we need. Like Load_Iris for dataset, scikit for preprocessing, for algorithm, and for analyzing the data, and matplot lib for ploting. In the last line we are importing the Iris dataset.\n",
        "\n"
      ],
      "metadata": {
        "id": "6ddQO7qGTcu4"
      }
    },
    {
      "source": [
        "import pandas as pd\n",
        "import seaborn as sns\n",
        "import numpy as np\n",
        "from sklearn.decomposition import PCA\n",
        "from sklearn.preprocessing import StandardScaler\n",
        "from sklearn.cluster import KMeans\n",
        "from sklearn.metrics import silhouette_score\n",
        "from sklearn.datasets import load_iris\n",
        "import matplotlib.pyplot as plt\n",
        "\n",
        "iris = load_iris(as_frame=True)"
      ],
      "cell_type": "code",
      "metadata": {
        "id": "4jzjj8H8SadJ"
      },
      "execution_count": 4,
      "outputs": []
    },
    {
      "cell_type": "markdown",
      "source": [
        "In this block, we are doing two things. The first thing is renaming the columns of the Iris dataset to a more descriptive names. The second thing we are doing here is displaying the first few rows of the dataset to get a very quick look at the the dataset structure and content."
      ],
      "metadata": {
        "id": "-10rqsAXUVHR"
      }
    },
    {
      "cell_type": "code",
      "source": [
        "iris.feature_names = ['sepal_length', 'sepal_width', 'petal_length', 'petal_width']\n",
        "iris.data.head()"
      ],
      "metadata": {
        "colab": {
          "base_uri": "https://localhost:8080/",
          "height": 206
        },
        "collapsed": true,
        "id": "XG8VwPDjStE1",
        "outputId": "6a7239aa-2c6a-477a-8ed2-0a5f6efb054e"
      },
      "execution_count": 5,
      "outputs": [
        {
          "output_type": "execute_result",
          "data": {
            "text/plain": [
              "   sepal length (cm)  sepal width (cm)  petal length (cm)  petal width (cm)\n",
              "0                5.1               3.5                1.4               0.2\n",
              "1                4.9               3.0                1.4               0.2\n",
              "2                4.7               3.2                1.3               0.2\n",
              "3                4.6               3.1                1.5               0.2\n",
              "4                5.0               3.6                1.4               0.2"
            ],
            "text/html": [
              "\n",
              "  <div id=\"df-ce53bac1-d336-4379-820e-904ea8bf08ec\" class=\"colab-df-container\">\n",
              "    <div>\n",
              "<style scoped>\n",
              "    .dataframe tbody tr th:only-of-type {\n",
              "        vertical-align: middle;\n",
              "    }\n",
              "\n",
              "    .dataframe tbody tr th {\n",
              "        vertical-align: top;\n",
              "    }\n",
              "\n",
              "    .dataframe thead th {\n",
              "        text-align: right;\n",
              "    }\n",
              "</style>\n",
              "<table border=\"1\" class=\"dataframe\">\n",
              "  <thead>\n",
              "    <tr style=\"text-align: right;\">\n",
              "      <th></th>\n",
              "      <th>sepal length (cm)</th>\n",
              "      <th>sepal width (cm)</th>\n",
              "      <th>petal length (cm)</th>\n",
              "      <th>petal width (cm)</th>\n",
              "    </tr>\n",
              "  </thead>\n",
              "  <tbody>\n",
              "    <tr>\n",
              "      <th>0</th>\n",
              "      <td>5.1</td>\n",
              "      <td>3.5</td>\n",
              "      <td>1.4</td>\n",
              "      <td>0.2</td>\n",
              "    </tr>\n",
              "    <tr>\n",
              "      <th>1</th>\n",
              "      <td>4.9</td>\n",
              "      <td>3.0</td>\n",
              "      <td>1.4</td>\n",
              "      <td>0.2</td>\n",
              "    </tr>\n",
              "    <tr>\n",
              "      <th>2</th>\n",
              "      <td>4.7</td>\n",
              "      <td>3.2</td>\n",
              "      <td>1.3</td>\n",
              "      <td>0.2</td>\n",
              "    </tr>\n",
              "    <tr>\n",
              "      <th>3</th>\n",
              "      <td>4.6</td>\n",
              "      <td>3.1</td>\n",
              "      <td>1.5</td>\n",
              "      <td>0.2</td>\n",
              "    </tr>\n",
              "    <tr>\n",
              "      <th>4</th>\n",
              "      <td>5.0</td>\n",
              "      <td>3.6</td>\n",
              "      <td>1.4</td>\n",
              "      <td>0.2</td>\n",
              "    </tr>\n",
              "  </tbody>\n",
              "</table>\n",
              "</div>\n",
              "    <div class=\"colab-df-buttons\">\n",
              "\n",
              "  <div class=\"colab-df-container\">\n",
              "    <button class=\"colab-df-convert\" onclick=\"convertToInteractive('df-ce53bac1-d336-4379-820e-904ea8bf08ec')\"\n",
              "            title=\"Convert this dataframe to an interactive table.\"\n",
              "            style=\"display:none;\">\n",
              "\n",
              "  <svg xmlns=\"http://www.w3.org/2000/svg\" height=\"24px\" viewBox=\"0 -960 960 960\">\n",
              "    <path d=\"M120-120v-720h720v720H120Zm60-500h600v-160H180v160Zm220 220h160v-160H400v160Zm0 220h160v-160H400v160ZM180-400h160v-160H180v160Zm440 0h160v-160H620v160ZM180-180h160v-160H180v160Zm440 0h160v-160H620v160Z\"/>\n",
              "  </svg>\n",
              "    </button>\n",
              "\n",
              "  <style>\n",
              "    .colab-df-container {\n",
              "      display:flex;\n",
              "      gap: 12px;\n",
              "    }\n",
              "\n",
              "    .colab-df-convert {\n",
              "      background-color: #E8F0FE;\n",
              "      border: none;\n",
              "      border-radius: 50%;\n",
              "      cursor: pointer;\n",
              "      display: none;\n",
              "      fill: #1967D2;\n",
              "      height: 32px;\n",
              "      padding: 0 0 0 0;\n",
              "      width: 32px;\n",
              "    }\n",
              "\n",
              "    .colab-df-convert:hover {\n",
              "      background-color: #E2EBFA;\n",
              "      box-shadow: 0px 1px 2px rgba(60, 64, 67, 0.3), 0px 1px 3px 1px rgba(60, 64, 67, 0.15);\n",
              "      fill: #174EA6;\n",
              "    }\n",
              "\n",
              "    .colab-df-buttons div {\n",
              "      margin-bottom: 4px;\n",
              "    }\n",
              "\n",
              "    [theme=dark] .colab-df-convert {\n",
              "      background-color: #3B4455;\n",
              "      fill: #D2E3FC;\n",
              "    }\n",
              "\n",
              "    [theme=dark] .colab-df-convert:hover {\n",
              "      background-color: #434B5C;\n",
              "      box-shadow: 0px 1px 3px 1px rgba(0, 0, 0, 0.15);\n",
              "      filter: drop-shadow(0px 1px 2px rgba(0, 0, 0, 0.3));\n",
              "      fill: #FFFFFF;\n",
              "    }\n",
              "  </style>\n",
              "\n",
              "    <script>\n",
              "      const buttonEl =\n",
              "        document.querySelector('#df-ce53bac1-d336-4379-820e-904ea8bf08ec button.colab-df-convert');\n",
              "      buttonEl.style.display =\n",
              "        google.colab.kernel.accessAllowed ? 'block' : 'none';\n",
              "\n",
              "      async function convertToInteractive(key) {\n",
              "        const element = document.querySelector('#df-ce53bac1-d336-4379-820e-904ea8bf08ec');\n",
              "        const dataTable =\n",
              "          await google.colab.kernel.invokeFunction('convertToInteractive',\n",
              "                                                    [key], {});\n",
              "        if (!dataTable) return;\n",
              "\n",
              "        const docLinkHtml = 'Like what you see? Visit the ' +\n",
              "          '<a target=\"_blank\" href=https://colab.research.google.com/notebooks/data_table.ipynb>data table notebook</a>'\n",
              "          + ' to learn more about interactive tables.';\n",
              "        element.innerHTML = '';\n",
              "        dataTable['output_type'] = 'display_data';\n",
              "        await google.colab.output.renderOutput(dataTable, element);\n",
              "        const docLink = document.createElement('div');\n",
              "        docLink.innerHTML = docLinkHtml;\n",
              "        element.appendChild(docLink);\n",
              "      }\n",
              "    </script>\n",
              "  </div>\n",
              "\n",
              "\n",
              "<div id=\"df-11e3ae93-a5cb-467c-bca2-0ea891cd36f1\">\n",
              "  <button class=\"colab-df-quickchart\" onclick=\"quickchart('df-11e3ae93-a5cb-467c-bca2-0ea891cd36f1')\"\n",
              "            title=\"Suggest charts\"\n",
              "            style=\"display:none;\">\n",
              "\n",
              "<svg xmlns=\"http://www.w3.org/2000/svg\" height=\"24px\"viewBox=\"0 0 24 24\"\n",
              "     width=\"24px\">\n",
              "    <g>\n",
              "        <path d=\"M19 3H5c-1.1 0-2 .9-2 2v14c0 1.1.9 2 2 2h14c1.1 0 2-.9 2-2V5c0-1.1-.9-2-2-2zM9 17H7v-7h2v7zm4 0h-2V7h2v10zm4 0h-2v-4h2v4z\"/>\n",
              "    </g>\n",
              "</svg>\n",
              "  </button>\n",
              "\n",
              "<style>\n",
              "  .colab-df-quickchart {\n",
              "      --bg-color: #E8F0FE;\n",
              "      --fill-color: #1967D2;\n",
              "      --hover-bg-color: #E2EBFA;\n",
              "      --hover-fill-color: #174EA6;\n",
              "      --disabled-fill-color: #AAA;\n",
              "      --disabled-bg-color: #DDD;\n",
              "  }\n",
              "\n",
              "  [theme=dark] .colab-df-quickchart {\n",
              "      --bg-color: #3B4455;\n",
              "      --fill-color: #D2E3FC;\n",
              "      --hover-bg-color: #434B5C;\n",
              "      --hover-fill-color: #FFFFFF;\n",
              "      --disabled-bg-color: #3B4455;\n",
              "      --disabled-fill-color: #666;\n",
              "  }\n",
              "\n",
              "  .colab-df-quickchart {\n",
              "    background-color: var(--bg-color);\n",
              "    border: none;\n",
              "    border-radius: 50%;\n",
              "    cursor: pointer;\n",
              "    display: none;\n",
              "    fill: var(--fill-color);\n",
              "    height: 32px;\n",
              "    padding: 0;\n",
              "    width: 32px;\n",
              "  }\n",
              "\n",
              "  .colab-df-quickchart:hover {\n",
              "    background-color: var(--hover-bg-color);\n",
              "    box-shadow: 0 1px 2px rgba(60, 64, 67, 0.3), 0 1px 3px 1px rgba(60, 64, 67, 0.15);\n",
              "    fill: var(--button-hover-fill-color);\n",
              "  }\n",
              "\n",
              "  .colab-df-quickchart-complete:disabled,\n",
              "  .colab-df-quickchart-complete:disabled:hover {\n",
              "    background-color: var(--disabled-bg-color);\n",
              "    fill: var(--disabled-fill-color);\n",
              "    box-shadow: none;\n",
              "  }\n",
              "\n",
              "  .colab-df-spinner {\n",
              "    border: 2px solid var(--fill-color);\n",
              "    border-color: transparent;\n",
              "    border-bottom-color: var(--fill-color);\n",
              "    animation:\n",
              "      spin 1s steps(1) infinite;\n",
              "  }\n",
              "\n",
              "  @keyframes spin {\n",
              "    0% {\n",
              "      border-color: transparent;\n",
              "      border-bottom-color: var(--fill-color);\n",
              "      border-left-color: var(--fill-color);\n",
              "    }\n",
              "    20% {\n",
              "      border-color: transparent;\n",
              "      border-left-color: var(--fill-color);\n",
              "      border-top-color: var(--fill-color);\n",
              "    }\n",
              "    30% {\n",
              "      border-color: transparent;\n",
              "      border-left-color: var(--fill-color);\n",
              "      border-top-color: var(--fill-color);\n",
              "      border-right-color: var(--fill-color);\n",
              "    }\n",
              "    40% {\n",
              "      border-color: transparent;\n",
              "      border-right-color: var(--fill-color);\n",
              "      border-top-color: var(--fill-color);\n",
              "    }\n",
              "    60% {\n",
              "      border-color: transparent;\n",
              "      border-right-color: var(--fill-color);\n",
              "    }\n",
              "    80% {\n",
              "      border-color: transparent;\n",
              "      border-right-color: var(--fill-color);\n",
              "      border-bottom-color: var(--fill-color);\n",
              "    }\n",
              "    90% {\n",
              "      border-color: transparent;\n",
              "      border-bottom-color: var(--fill-color);\n",
              "    }\n",
              "  }\n",
              "</style>\n",
              "\n",
              "  <script>\n",
              "    async function quickchart(key) {\n",
              "      const quickchartButtonEl =\n",
              "        document.querySelector('#' + key + ' button');\n",
              "      quickchartButtonEl.disabled = true;  // To prevent multiple clicks.\n",
              "      quickchartButtonEl.classList.add('colab-df-spinner');\n",
              "      try {\n",
              "        const charts = await google.colab.kernel.invokeFunction(\n",
              "            'suggestCharts', [key], {});\n",
              "      } catch (error) {\n",
              "        console.error('Error during call to suggestCharts:', error);\n",
              "      }\n",
              "      quickchartButtonEl.classList.remove('colab-df-spinner');\n",
              "      quickchartButtonEl.classList.add('colab-df-quickchart-complete');\n",
              "    }\n",
              "    (() => {\n",
              "      let quickchartButtonEl =\n",
              "        document.querySelector('#df-11e3ae93-a5cb-467c-bca2-0ea891cd36f1 button');\n",
              "      quickchartButtonEl.style.display =\n",
              "        google.colab.kernel.accessAllowed ? 'block' : 'none';\n",
              "    })();\n",
              "  </script>\n",
              "</div>\n",
              "\n",
              "    </div>\n",
              "  </div>\n"
            ],
            "application/vnd.google.colaboratory.intrinsic+json": {
              "type": "dataframe",
              "summary": "{\n  \"name\": \"iris\",\n  \"rows\": 5,\n  \"fields\": [\n    {\n      \"column\": \"sepal length (cm)\",\n      \"properties\": {\n        \"dtype\": \"number\",\n        \"std\": 0.2073644135332772,\n        \"min\": 4.6,\n        \"max\": 5.1,\n        \"num_unique_values\": 5,\n        \"samples\": [\n          4.9,\n          5.0,\n          4.7\n        ],\n        \"semantic_type\": \"\",\n        \"description\": \"\"\n      }\n    },\n    {\n      \"column\": \"sepal width (cm)\",\n      \"properties\": {\n        \"dtype\": \"number\",\n        \"std\": 0.2588435821108957,\n        \"min\": 3.0,\n        \"max\": 3.6,\n        \"num_unique_values\": 5,\n        \"samples\": [\n          3.0,\n          3.6,\n          3.2\n        ],\n        \"semantic_type\": \"\",\n        \"description\": \"\"\n      }\n    },\n    {\n      \"column\": \"petal length (cm)\",\n      \"properties\": {\n        \"dtype\": \"number\",\n        \"std\": 0.07071067811865474,\n        \"min\": 1.3,\n        \"max\": 1.5,\n        \"num_unique_values\": 3,\n        \"samples\": [\n          1.4,\n          1.3,\n          1.5\n        ],\n        \"semantic_type\": \"\",\n        \"description\": \"\"\n      }\n    },\n    {\n      \"column\": \"petal width (cm)\",\n      \"properties\": {\n        \"dtype\": \"number\",\n        \"std\": 0.0,\n        \"min\": 0.2,\n        \"max\": 0.2,\n        \"num_unique_values\": 1,\n        \"samples\": [\n          0.2\n        ],\n        \"semantic_type\": \"\",\n        \"description\": \"\"\n      }\n    }\n  ]\n}"
            }
          },
          "metadata": {},
          "execution_count": 5
        }
      ]
    },
    {
      "cell_type": "markdown",
      "source": [
        "In this block we are doing a whole lotta things. The basic thing that we are doing is reducing our data. The '(n_components=2)' tells that we want to reduce the dataset into 2 principal components using PCA. The 'fit' is used to calculate the principal componentsbased on the input data i.e. (iris_data). The 'transform' is used to to transform the original dato into 2 princial components. After all that is done we are printing out our transformed data with it's shape and displaying the first 5 rows of the reduced data."
      ],
      "metadata": {
        "id": "B_WzJ_NWXLUU"
      }
    },
    {
      "cell_type": "code",
      "source": [
        "X_reduced = PCA(n_components=2).fit_transform(iris.data)\n",
        "print(f\"X_reduced shape: {X_reduced.shape}, first few enteries: {X_reduced[:5]}\")"
      ],
      "metadata": {
        "colab": {
          "base_uri": "https://localhost:8080/"
        },
        "collapsed": true,
        "id": "Z4DmIFerTKUV",
        "outputId": "54bf9a91-1e74-43c5-da7e-aa35e920ccd6"
      },
      "execution_count": 11,
      "outputs": [
        {
          "output_type": "stream",
          "name": "stdout",
          "text": [
            "X_reduced shape: (150, 2), first few enteries: [[-2.68412563  0.31939725]\n",
            " [-2.71414169 -0.17700123]\n",
            " [-2.88899057 -0.14494943]\n",
            " [-2.74534286 -0.31829898]\n",
            " [-2.72871654  0.32675451]]\n"
          ]
        }
      ]
    },
    {
      "cell_type": "markdown",
      "source": [
        "This block is used to draw a scatterplot. It does this by using the x-axis and the y-axis as a reference like a graph."
      ],
      "metadata": {
        "id": "q2KXmS4DZXpF"
      }
    },
    {
      "cell_type": "code",
      "source": [
        "sns.scatterplot(x=X_reduced[:, 0], y=X_reduced[:, 1])"
      ],
      "metadata": {
        "colab": {
          "base_uri": "https://localhost:8080/",
          "height": 452
        },
        "collapsed": true,
        "id": "mwgI4ojzVPlg",
        "outputId": "efa59287-3665-4eba-db52-eeccaff365ba"
      },
      "execution_count": 17,
      "outputs": [
        {
          "output_type": "execute_result",
          "data": {
            "text/plain": [
              "<Axes: >"
            ]
          },
          "metadata": {},
          "execution_count": 17
        },
        {
          "output_type": "display_data",
          "data": {
            "text/plain": [
              "<Figure size 640x480 with 1 Axes>"
            ],
            "image/png": "[encoded data removed]"
          },
          "metadata": {}
        }
      ]
    },
    {
      "cell_type": "markdown",
      "source": [
        "This block's job is to turn the dataset's data into a NumPy array and the display its shape. This is done by accessin the data attribute of the iris object and then calls the to_numpy function to convert it into NumPy array and then using the '.shape' method displaying the the array."
      ],
      "metadata": {
        "id": "eVduyowUajZh"
      }
    },
    {
      "cell_type": "code",
      "source": [
        "data_numpy = iris.data.to_numpy()\n",
        "data_numpy.shape"
      ],
      "metadata": {
        "colab": {
          "base_uri": "https://localhost:8080/"
        },
        "collapsed": true,
        "id": "sPtvBX3nVlGU",
        "outputId": "f59b0ad3-6d15-4fe2-8fdd-24f44ef79527"
      },
      "execution_count": 13,
      "outputs": [
        {
          "output_type": "execute_result",
          "data": {
            "text/plain": [
              "(150, 4)"
            ]
          },
          "metadata": {},
          "execution_count": 13
        }
      ]
    },
    {
      "cell_type": "markdown",
      "source": [
        "In this block we can see, the value of k being assigned a value. And then the next line initiates the KMenas clustering model. The 'kmeans.fit(data_numpy)' fits the KMeans model to the data_numpy array. After all this is done, the last line creates a new instance that generates a random number that is provided by the NumPy.\n"
      ],
      "metadata": {
        "id": "O5j_roWAbylv"
      }
    },
    {
      "cell_type": "code",
      "source": [
        "k = 3\n",
        "kmeans = KMeans(n_clusters=k)\n",
        "kmeans.fit(data_numpy)\n",
        "\n",
        "rng = np.random.default_rng()"
      ],
      "metadata": {
        "id": "9DWmzRlTWEOy"
      },
      "execution_count": 15,
      "outputs": []
    },
    {
      "cell_type": "markdown",
      "source": [
        "In this block first we initialize empty lists all_assignments and variance_sums to store clustering results and variance values.After that we run a loop 10 times(10 restarts) to see different initializations of the KMeans algorithm. For each restart, we initialize and fit a standard KMeans model. Then we create and re-initialize cluster centers randomly using a random number generator. After that we implement a custom KMeans iteration with cluster assignment and center update steps until convergence.\n",
        "Lastly the last lines of the loop calculate and print the variance sum, silhouette score, and cluster centers for each run. The cluster assignments and variance sums are then stored."
      ],
      "metadata": {
        "id": "KAt04J-xd2z9"
      }
    },
    {
      "cell_type": "code",
      "source": [
        "all_assignments = []\n",
        "variance_sums = []\n",
        "\n",
        "for restart in range(10):\n",
        "    kmeans = KMeans(n_clusters=k)\n",
        "    kmeans.fit(data_numpy)\n",
        "    #create random centers\n",
        "    cluster_centers = rng.choice(data_numpy, size=k, replace=False)\n",
        "    for i in range(k):\n",
        "        random_index = int(data_numpy.shape[0] * rng.random())\n",
        "        cluster_centers[i] = data_numpy[random_index]\n",
        "\n",
        "    old_cluster_centers = np.zeros((k, data_numpy.shape[1]))\n",
        "    #while  -check if the centers are changed\n",
        "    while np.linalg.norm(old_cluster_centers - cluster_centers) > 0:\n",
        "        cluster_per_datapoint = np.zeros(data_numpy.shape[0])\n",
        "        for i in range(data_numpy.shape[0]):\n",
        "            distances = [np.linalg.norm(data_numpy[i] - center) for center in cluster_centers]\n",
        "            nearest_center = np.argmin(distances)\n",
        "            cluster_per_datapoint[i] = nearest_center\n",
        "\n",
        "        old_cluster_centers = cluster_centers.copy()\n",
        "        cluster_centers = np.zeros((k, data_numpy.shape[1]))\n",
        "        for i in range(k):\n",
        "            cluster_centers[i] = np.mean(data_numpy[cluster_per_datapoint == i], axis=0)\n",
        "\n",
        "        cluster_centers\n",
        "\n",
        "    variance_sum = 0\n",
        "    for cluster_index in range(k):\n",
        "        variance_sum += np.sum((data_numpy[cluster_per_datapoint == cluster_index] - cluster_centers[cluster_index])**2)\n",
        "    print(f\"Variance sum: {variance_sum}\")\n",
        "    print(f\"Silhouette score: {silhouette_score(data_numpy, cluster_per_datapoint)}\")\n",
        "    print(f\"Cluster centers: {cluster_centers}\")\n",
        "    variance_sums.append(variance_sum)\n",
        "    all_assignments.append(cluster_per_datapoint.copy())\n"
      ],
      "metadata": {
        "colab": {
          "base_uri": "https://localhost:8080/"
        },
        "collapsed": true,
        "id": "Kb082OiiWQ2J",
        "outputId": "e7461b35-d95a-461d-a20e-8802e36ac969"
      },
      "execution_count": 16,
      "outputs": [
        {
          "output_type": "stream",
          "name": "stdout",
          "text": [
            "Variance sum: 78.8556658259773\n",
            "Silhouette score: 0.5511916046195927\n",
            "Cluster centers: [[5.006      3.428      1.462      0.246     ]\n",
            " [6.85384615 3.07692308 5.71538462 2.05384615]\n",
            " [5.88360656 2.74098361 4.38852459 1.43442623]]\n",
            "Variance sum: 78.85566582597731\n",
            "Silhouette score: 0.5511916046195927\n",
            "Cluster centers: [[5.006      3.428      1.462      0.246     ]\n",
            " [5.88360656 2.74098361 4.38852459 1.43442623]\n",
            " [6.85384615 3.07692308 5.71538462 2.05384615]]\n",
            "Variance sum: 78.8556658259773\n",
            "Silhouette score: 0.5511916046195927\n",
            "Cluster centers: [[5.88360656 2.74098361 4.38852459 1.43442623]\n",
            " [6.85384615 3.07692308 5.71538462 2.05384615]\n",
            " [5.006      3.428      1.462      0.246     ]]\n",
            "Variance sum: 142.7540625\n",
            "Silhouette score: 0.5185675688773284\n",
            "Cluster centers: [[6.31458333 2.89583333 4.97395833 1.703125  ]\n",
            " [5.19375    3.63125    1.475      0.271875  ]\n",
            " [4.73181818 2.92727273 1.77272727 0.35      ]]\n",
            "Variance sum: 78.85144142614601\n",
            "Silhouette score: 0.5528190123564102\n",
            "Cluster centers: [[5.006      3.428      1.462      0.246     ]\n",
            " [5.9016129  2.7483871  4.39354839 1.43387097]\n",
            " [6.85       3.07368421 5.74210526 2.07105263]]\n",
            "Variance sum: 78.8556658259773\n",
            "Silhouette score: 0.5511916046195927\n",
            "Cluster centers: [[5.006      3.428      1.462      0.246     ]\n",
            " [6.85384615 3.07692308 5.71538462 2.05384615]\n",
            " [5.88360656 2.74098361 4.38852459 1.43442623]]\n",
            "Variance sum: 142.7540625\n",
            "Silhouette score: 0.5185675688773284\n",
            "Cluster centers: [[5.19375    3.63125    1.475      0.271875  ]\n",
            " [6.31458333 2.89583333 4.97395833 1.703125  ]\n",
            " [4.73181818 2.92727273 1.77272727 0.35      ]]\n",
            "Variance sum: 78.85144142614601\n",
            "Silhouette score: 0.5528190123564102\n",
            "Cluster centers: [[5.9016129  2.7483871  4.39354839 1.43387097]\n",
            " [6.85       3.07368421 5.74210526 2.07105263]\n",
            " [5.006      3.428      1.462      0.246     ]]\n",
            "Variance sum: 145.5251866334874\n",
            "Silhouette score: 0.4947180425144912\n",
            "Cluster centers: [[6.30103093 2.88659794 4.95876289 1.69587629]\n",
            " [4.73333333 3.15833333 1.39166667 0.2       ]\n",
            " [5.23103448 3.54482759 1.7        0.36551724]]\n",
            "Variance sum: 145.45269176485027\n",
            "Silhouette score: 0.4999825843254737\n",
            "Cluster centers: [[6.30103093 2.88659794 4.95876289 1.69587629]\n",
            " [5.20625    3.540625   1.671875   0.35      ]\n",
            " [4.7        3.10952381 1.39047619 0.2       ]]\n"
          ]
        }
      ]
    }
  ]
}